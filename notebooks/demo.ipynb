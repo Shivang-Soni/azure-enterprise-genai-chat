{
 "cells": [
  {
   "cell_type": "code",
   "execution_count": 5,
   "id": "fb91a706",
   "metadata": {},
   "outputs": [
    {
     "name": "stdout",
     "output_type": "stream",
     "text": [
      "Upload erfolgreich:  True\n",
      "/nDownload erfolgreich:  True\n",
      "/nInhalt der heruntergeladenen Dateien: \n",
      "Testinhalt - Azure Blob Storage funktioniert!\n"
     ]
    }
   ],
   "source": [
    "# ==================================================\n",
    "# Azure Blob Storage Demo\n",
    "# ==================================================\n",
    "import sys, os\n",
    "sys.path.append(os.path.abspath(\"..\"))\n",
    "sys.path.append(os.path.abspath(\".\"))\n",
    "\n",
    "from app.clients.blob_storage import BlobStorageClient\n",
    "# Initialisierung\n",
    "client = BlobStorageClient()\n",
    "\n",
    "# Testdatei Erzeugung\n",
    "test_file_path = \"test_upload.txt\"\n",
    "with open(test_file_path, \"w\") as f:\n",
    "    f.write(\"Testinhalt - Azure Blob Storage funktioniert!\")\n",
    "\n",
    "# Datei hochladen\n",
    "upload_ok = client.upload_file(test_file_path, \"upload_test_notebook.txt\")\n",
    "print(\"Upload erfolgreich: \", upload_ok)\n",
    "\n",
    "# Dateien herunterladen\n",
    "download_path = \"download_test_notebook.txt\"\n",
    "download_ok = client.download_file(\"upload_test_notebook.txt\", download_path)\n",
    "print (\"/nDownload erfolgreich: \", download_ok)\n",
    "\n",
    "# Lokalen Inhalt Überprüfung\n",
    "with open(download_path, \"r\") as f:\n",
    "    content = f.read()\n",
    "print(\"/nInhalt der heruntergeladenen Dateien: \")\n",
    "print(content)"
   ]
  },
  {
   "cell_type": "code",
   "execution_count": 3,
   "id": "4c93170f",
   "metadata": {},
   "outputs": [
    {
     "name": "stdout",
     "output_type": "stream",
     "text": [
      "Alter Index (documents) wurde gelöscht.\n"
     ]
    }
   ],
   "source": [
    "# =========================================================\n",
    "# Löschung vom bestehenden Index\n",
    "# =========================================================\n",
    "from azure.core.credentials import AzureKeyCredential\n",
    "from azure.search.documents.indexes import SearchIndexClient\n",
    "from azure.search.documents.indexes.models import SearchIndex, SimpleField, SearchableField\n",
    "\n",
    "from app.config import AZURE_SEARCH_ENDPOINT, AZURE_SEARCH_KEY, AZURE_SEARCH_INDEX\n",
    "\n",
    "\n",
    "index_client = SearchIndexClient(\n",
    "    endpoint=AZURE_SEARCH_ENDPOINT,\n",
    "    credential=AzureKeyCredential(AZURE_SEARCH_KEY)\n",
    ")\n",
    "\n",
    "# Wenn alter Index vorhanden ist, es wird zuerst gelöscht\n",
    "try:\n",
    "    index_client.delete_index(AZURE_SEARCH_INDEX)\n",
    "    print(f\"Alter Index ({AZURE_SEARCH_INDEX}) wurde gelöscht.\")\n",
    "except Exception:\n",
    "    pass\n",
    "\n"
   ]
  },
  {
   "cell_type": "code",
   "execution_count": 4,
   "id": "01e1c836",
   "metadata": {},
   "outputs": [
    {
     "name": "stdout",
     "output_type": "stream",
     "text": [
      "Index 'documents' erfolgreich initialisiert.\n"
     ]
    }
   ],
   "source": [
    "# ===========================================================\n",
    "# Erstellung eines neuen Indexes\n",
    "# ============================================================\n",
    "fields = [\n",
    "    SimpleField(name=\"id\", type=\"Edm.String\", key=True),\n",
    "    SearchableField(name=\"title\", type=\"Edm.String\", retrievable=True),\n",
    "    SearchableField(name=\"content\", type=\"Edm.String\", retrievable=True)\n",
    "]\n",
    "\n",
    "index = SearchIndex(name=AZURE_SEARCH_INDEX, fields=fields)\n",
    "\n",
    "try:\n",
    "    index_client.create_index(index)\n",
    "    print(f\"Index '{AZURE_SEARCH_INDEX}' erfolgreich initialisiert.\")\n",
    "except Exception as e:\n",
    "    print(f\"Fehler ist bei der Erstellung des Indexes aufgetreten: {e}\")"
   ]
  },
  {
   "cell_type": "code",
   "execution_count": 5,
   "id": "f9f3809e",
   "metadata": {},
   "outputs": [
    {
     "name": "stdout",
     "output_type": "stream",
     "text": [
      "Dokumente erfolgreich hochgeladen.\n"
     ]
    }
   ],
   "source": [
    "# ========================================================\n",
    "# Das Hochladen von Beispieldokumenten\n",
    "# ========================================================\n",
    "from azure.search.documents import SearchClient\n",
    "from azure.core.credentials import AzureKeyCredential\n",
    "\n",
    "\n",
    "search_client = SearchClient(\n",
    "    endpoint=AZURE_SEARCH_ENDPOINT,\n",
    "    index_name=AZURE_SEARCH_INDEX,\n",
    "    credential=AzureKeyCredential(AZURE_SEARCH_KEY)\n",
    ")\n",
    "\n",
    "docs = [\n",
    "     {\"id\": \"1\", \"title\": \"Azure Cognitive Search Test\", \"content\": \"Dies ist ein Testdokument.\"},\n",
    "    {\"id\": \"2\", \"title\": \"Künstliche Intelligenz\", \"content\": \"Azure Search ermöglicht KI-basierte Suche.\"},\n",
    "    {\"id\": \"3\", \"title\": \"Cloud Computing\", \"content\": \"Speicherung und Verarbeitung in der Cloud.\"},\n",
    "    {\"id\": \"4\", \"title\": \"Python Programmierung\", \"content\": \"Python ist eine beliebte Programmiersprache.\"},\n",
    "    {\"id\": \"5\", \"title\": \"Azure Einsatz\", \"content\": \"Azure könnte tatsächlich bei Firmen auf verschiedenen Wegen genutzt werden. In erster Linie ist es hervorzuheben, dass Azure Cognitive Services einen großen Mehrwert bei zahlreichen heikligen Aufgaben verschaffen kann.\"},\n",
    "    {\"id\": \"6\", \"title\": \"FastAPI\", \"content\": \"Erstellung von APIs mit FastAPI.\"}\n",
    "]\n",
    "\n",
    "search_client.upload_documents(documents=docs)\n",
    "print(\"Dokumente erfolgreich hochgeladen.\")"
   ]
  },
  {
   "cell_type": "code",
   "execution_count": 6,
   "id": "9942227a",
   "metadata": {},
   "outputs": [
    {
     "name": "stdout",
     "output_type": "stream",
     "text": [
      "Cognitive Search Client wurde erfolgreich initialisert.\n",
      "Gefundene Dokumente: 3\n",
      "{'id': '5', 'title': 'Azure Einsatz', 'content': 'Azure könnte tatsächlich bei Firmen auf verschiedenen Wegen genutzt werden. In erster Linie ist es hervorzuheben, dass Azure Cognitive Services einen großen Mehrwert bei zahlreichen heikligen Aufgaben verschaffen kann.', '@search.score': 1.6750907, '@search.reranker_score': None, '@search.highlights': None, '@search.captions': None}\n",
      "{'id': '2', 'title': 'Künstliche Intelligenz', 'content': 'Azure Search ermöglicht KI-basierte Suche.', '@search.score': 1.133612, '@search.reranker_score': None, '@search.highlights': None, '@search.captions': None}\n",
      "{'id': '1', 'title': 'Azure Cognitive Search Test', 'content': 'Dies ist ein Testdokument.', '@search.score': 0.7648603, '@search.reranker_score': None, '@search.highlights': None, '@search.captions': None}\n"
     ]
    }
   ],
   "source": [
    "# ========================================================\n",
    "# Cognitive Search Demo\n",
    "# =========================================================\n",
    "from app.clients.cognitive_search import CoginitiveSearchClient\n",
    "from app.config import AZURE_SEARCH_ENDPOINT, AZURE_SEARCH_KEY, AZURE_SEARCH_INDEX\n",
    "\n",
    "# Initialisierung des Clients\n",
    "try:\n",
    "    search_client = CoginitiveSearchClient()\n",
    "    print(\"Cognitive Search Client wurde erfolgreich initialisert.\")\n",
    "except Exception as e:\n",
    "    print(\"Fehler bei der Initialisierung: {e}\")\n",
    "\n",
    "query = \"Azure\"\n",
    "\n",
    "try:\n",
    "    results = search_client.search_documents(query=query, top=5)\n",
    "    print(f\"Gefundene Dokumente: {len(results)}\")\n",
    "    for doc in results:\n",
    "        print(doc)\n",
    "except Exception as e:\n",
    "    print(f\"Fehler bei der Suche: {e}\")"
   ]
  },
  {
   "cell_type": "code",
   "execution_count": 1,
   "id": "61b388b4",
   "metadata": {},
   "outputs": [
    {
     "name": "stdout",
     "output_type": "stream",
     "text": [
      "Azure OpenAI ist ein Clouddienst von Microsoft, der es Unternehmen ermöglicht, Zugang zu fortschrittlichen KI-Modellen von OpenAI über die Azure-Plattform zu erhalten. Mit Azure OpenAI können Benutzer große Sprachmodelle wie GPT (Generative Pre-trained Transformer) nutzen, um unterschiedliche Anwendungsfälle zu unterstützen, darunter Textgenerierung, Konversations-KI, Inhaltsverarbeitung und mehr.\n",
      "\n",
      "Zu den Hauptmerkmalen von Azure OpenAI gehören:\n",
      "\n",
      "1. **Zugang zu KI-Modellen**: Nutzer können verschiedene KI-Modelle von OpenAI in ihre Anwendungen integrieren.\n",
      "  \n",
      "2. **Skalierbarkeit**: Dank der Azure-Infrastruktur können Unternehmen den Dienst problemlos skalieren, um ihren Anforderungen gerecht zu werden.\n",
      "\n",
      "3. **Sicherheit und Compliance**: Azure bietet Sicherheits- und Datenschutzfunktionen, die es Unternehmen ermöglichen, die geltenden Vorschriften einzuhalten.\n",
      "\n",
      "4. **Anpassung**: Benutzer können Modelle anpassen und trainieren, um spezifische Geschäftsanforderungen zu erfüllen.\n",
      "\n",
      "5. **Integration mit anderen Azure-Diensten**: Azure OpenAI lässt sich leicht in andere Azure-Dienste integrieren, was die Entwicklung von KI-gestützten Anwendungen erleichtert.\n",
      "\n",
      "Die Kombination aus den leistungsstarken KI-Modellen von OpenAI und der robusten Infrastruktur von Azure macht es Unternehmen leicht, innovative KI-Lösungen zu entwickeln und einzusetzen.\n"
     ]
    }
   ],
   "source": [
    "# ========================================\n",
    "# OpenAI Modell Aufruf Demo\n",
    "# ========================================\n",
    "import sys\n",
    "import os \n",
    "\n",
    "sys.path.append(os.path.abspath(\"..\"))\n",
    "\n",
    "from app.clients.openai_client import OpenAIClientWrapper\n",
    "\n",
    "client = OpenAIClientWrapper()\n",
    "response = client.generate_answer(\"Was ist Azure OpenAI?\", max_tokens=1000)\n",
    "print(response)"
   ]
  },
  {
   "cell_type": "code",
   "execution_count": 1,
   "id": "224f55b7",
   "metadata": {},
   "outputs": [
    {
     "name": "stdout",
     "output_type": "stream",
     "text": [
      "Azure kann in Unternehmen auf vielfältige Weise eingesetzt werden, um verschiedene Geschäftsprozesse zu optimieren und innovative Lösungen zu entwickeln. Hier sind einige wichtige Aspekte:\n",
      "\n",
      "1. **Azure Cognitive Services**: Diese Sammlung von KI-gestützten Diensten ermöglicht es Unternehmen, kognitive Funktionen wie Sprach- und Bilderkennung, Textanalyse und Übersetzungen in ihre Anwendungen zu integrieren. Dadurch können komplexe Aufgaben automatisiert werden, was die Effizienz steigert und wertvolle Einblicke aus Daten generiert.\n",
      "\n",
      "2. **Azure Search**: Mit dieser Funktion können Unternehmen eine leistungsstarke, KI-basierte Suchfunktion in ihre Anwendungen integrieren. Dies ermöglicht eine tiefere Interaktion mit den Daten und verbessert die Benutzererfahrung, indem es Nutzern hilft, die gewünschten Informationen schnell und präzise zu finden.\n",
      "\n",
      "Diese Technologien ermöglichen es Unternehmen, ihre Daten besser zu nutzen, Prozesse zu automatisieren und eine höhere Kundenzufriedenheit zu erreichen. Zudem können sie durch die Nutzung von Azure die Skalierbarkeit und Flexibilität ihrer IT-Infrastruktur erhöhen, was besonders entscheidend ist in der heutigen, schnelllebigen Geschäftswelt.\n"
     ]
    }
   ],
   "source": [
    "# ==============================================================\n",
    "# RAG Pipeline (Azure KI Suche) mit dem Modell Integration: Demo\n",
    "# ==============================================================\n",
    "import os \n",
    "import sys\n",
    "\n",
    "sys.path.append(os.path.abspath(\"..\"))\n",
    "\n",
    "from app.clients.cognitive_search import CoginitiveSearchClient\n",
    "from app.clients.openai_client import OpenAIClientWrapper\n",
    "\n",
    "\n",
    "# Initialisierung von Clients\n",
    "search_client = CoginitiveSearchClient()\n",
    "openai_client = OpenAIClientWrapper()\n",
    "\n",
    "# Suchanfrage in Azure KI Suche\n",
    "query = \"Azure\"\n",
    "docs = search_client.search_documents(query=query, top=3)\n",
    "\n",
    "# Antwort von GPT basierend auf Dokumenten wird erzeugt\n",
    "prompt = \"Erkläre mir, wie Azure in Unternehmen eingesetzt werden kann.\"\n",
    "response = openai_client.generate_answer(prompt, context_docs=docs)\n",
    "print(response)"
   ]
  },
  {
   "cell_type": "code",
   "execution_count": 2,
   "id": "b9631f3d",
   "metadata": {},
   "outputs": [
    {
     "name": "stdout",
     "output_type": "stream",
     "text": [
      "Ja, ich bin hier. Wie kann ich Ihnen helfen?\n"
     ]
    }
   ],
   "source": [
    "# =================================================\n",
    "# Azure Open AI Chatservice Demo\n",
    "# =================================================\n",
    "import os \n",
    "import sys\n",
    "\n",
    "sys.path.append(os.path.abspath(\"..\"))\n",
    "\n",
    "from app.services.chat_service import ChatService\n",
    "\n",
    "\n",
    "chat_service = ChatService()\n",
    "user_id = \"testuser\"\n",
    "question = \"Bist du da?\"\n",
    "\n",
    "answer = chat_service.process_query(question=question, user_id=user_id)\n",
    "print(answer)"
   ]
  }
 ],
 "metadata": {
  "kernelspec": {
   "display_name": "venv",
   "language": "python",
   "name": "python3"
  },
  "language_info": {
   "codemirror_mode": {
    "name": "ipython",
    "version": 3
   },
   "file_extension": ".py",
   "mimetype": "text/x-python",
   "name": "python",
   "nbconvert_exporter": "python",
   "pygments_lexer": "ipython3",
   "version": "3.10.3"
  }
 },
 "nbformat": 4,
 "nbformat_minor": 5
}
