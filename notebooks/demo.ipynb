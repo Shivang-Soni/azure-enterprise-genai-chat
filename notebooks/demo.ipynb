{
 "cells": [
  {
   "cell_type": "code",
   "execution_count": 1,
   "id": "fb91a706",
   "metadata": {},
   "outputs": [
    {
     "name": "stdout",
     "output_type": "stream",
     "text": [
      "Upload erfolgreich:  True\n",
      "/nDownload erfolgreich:  True\n",
      "\n",
      "Inhalt der heruntergeladenen Dateien: \n",
      "{'message': 'Testinhalt - Azure Blob Storage funktioniert.', 'source': 'local_demo_script'}\n"
     ]
    }
   ],
   "source": [
    "# ==================================================\n",
    "# Azure Blob Storage Demo\n",
    "# ==================================================\n",
    "import sys, os\n",
    "import json\n",
    "\n",
    "sys.path.append(os.path.abspath(\"..\"))\n",
    "sys.path.append(os.path.abspath(\".\"))\n",
    "\n",
    "from app.clients.blob_storage import BlobStorageClient\n",
    "\n",
    "\n",
    "# Initialisierung\n",
    "client = BlobStorageClient()\n",
    "\n",
    "# Beispieldaten:\n",
    "data = {\n",
    "    \"message\": \"Testinhalt - Azure Blob Storage funktioniert.\",\n",
    "    \"source\": \"local_demo_script\"\n",
    "}\n",
    "# Testdatei Erzeugung\n",
    "blob_name = \"test_upload.json\"\n",
    "\n",
    "# Datei hochladen\n",
    "upload_ok = client.upload_file(data=data, blob_name=blob_name)\n",
    "print(\"Upload erfolgreich: \", upload_ok)\n",
    "\n",
    "# Dateien herunterladen\n",
    "downloaded = client.download_file(blob_name)\n",
    "print (\"/nDownload erfolgreich: \", downloaded is not None)\n",
    "\n",
    "# Lokalen Inhalt Überprüfung\n",
    "if downloaded is not None:\n",
    "    content = json.loads(downloaded.decode(\"utf-8\"))\n",
    "    print(\"\\nInhalt der heruntergeladenen Dateien: \")\n",
    "    print(content)"
   ]
  },
  {
   "cell_type": "code",
   "execution_count": 3,
   "id": "4c93170f",
   "metadata": {},
   "outputs": [
    {
     "name": "stdout",
     "output_type": "stream",
     "text": [
      "Alter Index (documents) wurde gelöscht.\n"
     ]
    }
   ],
   "source": [
    "# =========================================================\n",
    "# Löschung vom bestehenden Index\n",
    "# =========================================================\n",
    "from azure.core.credentials import AzureKeyCredential\n",
    "from azure.search.documents.indexes import SearchIndexClient\n",
    "from azure.search.documents.indexes.models import SearchIndex, SimpleField, SearchableField\n",
    "\n",
    "from app.config import AZURE_SEARCH_ENDPOINT, AZURE_SEARCH_KEY, AZURE_SEARCH_INDEX\n",
    "\n",
    "\n",
    "index_client = SearchIndexClient(\n",
    "    endpoint=AZURE_SEARCH_ENDPOINT,\n",
    "    credential=AzureKeyCredential(AZURE_SEARCH_KEY)\n",
    ")\n",
    "\n",
    "# Wenn alter Index vorhanden ist, es wird zuerst gelöscht\n",
    "try:\n",
    "    index_client.delete_index(AZURE_SEARCH_INDEX)\n",
    "    print(f\"Alter Index ({AZURE_SEARCH_INDEX}) wurde gelöscht.\")\n",
    "except Exception:\n",
    "    pass\n",
    "\n"
   ]
  },
  {
   "cell_type": "code",
   "execution_count": 4,
   "id": "01e1c836",
   "metadata": {},
   "outputs": [
    {
     "name": "stdout",
     "output_type": "stream",
     "text": [
      "Index 'documents' erfolgreich initialisiert.\n"
     ]
    }
   ],
   "source": [
    "# ===========================================================\n",
    "# Erstellung eines neuen Indexes\n",
    "# ============================================================\n",
    "fields = [\n",
    "    SimpleField(name=\"id\", type=\"Edm.String\", key=True),\n",
    "    SearchableField(name=\"title\", type=\"Edm.String\", retrievable=True),\n",
    "    SearchableField(name=\"content\", type=\"Edm.String\", retrievable=True)\n",
    "]\n",
    "\n",
    "index = SearchIndex(name=AZURE_SEARCH_INDEX, fields=fields)\n",
    "\n",
    "try:\n",
    "    index_client.create_index(index)\n",
    "    print(f\"Index '{AZURE_SEARCH_INDEX}' erfolgreich initialisiert.\")\n",
    "except Exception as e:\n",
    "    print(f\"Fehler ist bei der Erstellung des Indexes aufgetreten: {e}\")"
   ]
  },
  {
   "cell_type": "code",
   "execution_count": 5,
   "id": "f9f3809e",
   "metadata": {},
   "outputs": [
    {
     "name": "stdout",
     "output_type": "stream",
     "text": [
      "Dokumente erfolgreich hochgeladen.\n"
     ]
    }
   ],
   "source": [
    "# ========================================================\n",
    "# Das Hochladen von Beispieldokumenten\n",
    "# ========================================================\n",
    "from azure.search.documents import SearchClient\n",
    "from azure.core.credentials import AzureKeyCredential\n",
    "\n",
    "\n",
    "search_client = SearchClient(\n",
    "    endpoint=AZURE_SEARCH_ENDPOINT,\n",
    "    index_name=AZURE_SEARCH_INDEX,\n",
    "    credential=AzureKeyCredential(AZURE_SEARCH_KEY)\n",
    ")\n",
    "\n",
    "docs = [\n",
    "     {\"id\": \"1\", \"title\": \"Azure Cognitive Search Test\", \"content\": \"Dies ist ein Testdokument.\"},\n",
    "    {\"id\": \"2\", \"title\": \"Künstliche Intelligenz\", \"content\": \"Azure Search ermöglicht KI-basierte Suche.\"},\n",
    "    {\"id\": \"3\", \"title\": \"Cloud Computing\", \"content\": \"Speicherung und Verarbeitung in der Cloud.\"},\n",
    "    {\"id\": \"4\", \"title\": \"Python Programmierung\", \"content\": \"Python ist eine beliebte Programmiersprache.\"},\n",
    "    {\"id\": \"5\", \"title\": \"Azure Einsatz\", \"content\": \"Azure könnte tatsächlich bei Firmen auf verschiedenen Wegen genutzt werden. In erster Linie ist es hervorzuheben, dass Azure Cognitive Services einen großen Mehrwert bei zahlreichen heikligen Aufgaben verschaffen kann.\"},\n",
    "    {\"id\": \"6\", \"title\": \"FastAPI\", \"content\": \"Erstellung von APIs mit FastAPI.\"}\n",
    "]\n",
    "\n",
    "search_client.upload_documents(documents=docs)\n",
    "print(\"Dokumente erfolgreich hochgeladen.\")"
   ]
  },
  {
   "cell_type": "code",
   "execution_count": 6,
   "id": "9942227a",
   "metadata": {},
   "outputs": [
    {
     "name": "stdout",
     "output_type": "stream",
     "text": [
      "Cognitive Search Client wurde erfolgreich initialisert.\n",
      "Gefundene Dokumente: 3\n",
      "{'content': 'Azure könnte tatsächlich bei Firmen auf verschiedenen Wegen genutzt werden. In erster Linie ist es hervorzuheben, dass Azure Cognitive Services einen großen Mehrwert bei zahlreichen heikligen Aufgaben verschaffen kann.', 'title': 'Azure Einsatz', 'id': '5', '@search.score': 1.6750907, '@search.reranker_score': None, '@search.highlights': None, '@search.captions': None}\n",
      "{'content': 'Azure Search ermöglicht KI-basierte Suche.', 'title': 'Künstliche Intelligenz', 'id': '2', '@search.score': 1.133612, '@search.reranker_score': None, '@search.highlights': None, '@search.captions': None}\n",
      "{'content': 'Dies ist ein Testdokument.', 'title': 'Azure Cognitive Search Test', 'id': '1', '@search.score': 0.7648603, '@search.reranker_score': None, '@search.highlights': None, '@search.captions': None}\n"
     ]
    }
   ],
   "source": [
    "# ========================================================\n",
    "# Cognitive Search Demo\n",
    "# =========================================================\n",
    "from app.clients.cognitive_search import CoginitiveSearchClient\n",
    "from app.config import AZURE_SEARCH_ENDPOINT, AZURE_SEARCH_KEY, AZURE_SEARCH_INDEX\n",
    "\n",
    "# Initialisierung des Clients\n",
    "try:\n",
    "    search_client = CoginitiveSearchClient()\n",
    "    print(\"Cognitive Search Client wurde erfolgreich initialisert.\")\n",
    "except Exception as e:\n",
    "    print(\"Fehler bei der Initialisierung: {e}\")\n",
    "\n",
    "query = \"Azure\"\n",
    "\n",
    "try:\n",
    "    results = search_client.search_documents(query=query, top=5)\n",
    "    print(f\"Gefundene Dokumente: {len(results)}\")\n",
    "    for doc in results:\n",
    "        print(doc)\n",
    "except Exception as e:\n",
    "    print(f\"Fehler bei der Suche: {e}\")"
   ]
  },
  {
   "cell_type": "code",
   "execution_count": 7,
   "id": "61b388b4",
   "metadata": {},
   "outputs": [
    {
     "name": "stdout",
     "output_type": "stream",
     "text": [
      "Azure OpenAI ist ein Service von Microsoft, der es ermöglicht, die KI-Modelle von OpenAI, wie GPT-3 und andere, in Azure-Umgebungen zu integrieren. Mit Azure OpenAI können Unternehmen und Entwickler auf fortschrittliche Sprachverarbeitungs- und KI-Technologien zugreifen, um Anwendungen zu erstellen, die natürliche Sprache verstehen und generieren können.\n",
      "\n",
      "Einige wichtige Aspekte von Azure OpenAI sind:\n",
      "\n",
      "1. **API-Zugriff**: Benutzer können über eine API auf die KI-Modelle zugreifen, um Text zu generieren, Fragen zu beantworten, Texte zu analysieren und vieles mehr.\n",
      "\n",
      "2. **Integration mit Azure-Diensten**: Azure OpenAI kann nahtlos mit anderen Azure-Diensten, wie Azure Machine Learning, Azure Cognitive Services und Azure Functions, integriert werden, um komplexe Lösungen zu entwickeln.\n",
      "\n",
      "3. **Sicherheit und Compliance**: Microsoft bietet Sicherheitsfunktionen und Einhaltung von Vorschriften, die in vielen Unternehmensumgebungen erforderlich sind, und ermöglicht es Benutzern, KI-Anwendungen sicher zu betreiben.\n",
      "\n",
      "4. **Skalierbarkeit**: Azure OpenAI ermöglicht es Unternehmen, ihre Anwendungen nach Bedarf zu skalieren, sodass sie bei steigenden Anforderungen einfach angepasst werden können.\n",
      "\n",
      "5. **Vielfältige Anwendungsfälle**: Die Technologie kann in einer Vielzahl von Branchen und Anwendungsfällen eingesetzt werden, darunter Kundenservice, Content-Erstellung, Übersetzung, Datenanalyse und mehr.\n",
      "\n",
      "Durch die Kombination von OpenAIs KI-Fähigkeiten mit Azure-Infrastruktur und -Diensten können Unternehmen innovative Lösungen entwickeln und die Vorteile natürlicher Sprachverarbeitung in ihren Anwendungen nutzen.\n"
     ]
    }
   ],
   "source": [
    "# ========================================\n",
    "# OpenAI Modell Aufruf Demo\n",
    "# ========================================\n",
    "import sys\n",
    "import os \n",
    "\n",
    "sys.path.append(os.path.abspath(\"..\"))\n",
    "\n",
    "from app.clients.openai_client import OpenAIClientWrapper\n",
    "\n",
    "client = OpenAIClientWrapper()\n",
    "response = client.generate_answer(\"Was ist Azure OpenAI?\", max_tokens=1000)\n",
    "print(response)"
   ]
  },
  {
   "cell_type": "code",
   "execution_count": 8,
   "id": "224f55b7",
   "metadata": {},
   "outputs": [
    {
     "name": "stdout",
     "output_type": "stream",
     "text": [
      "Azure kann in Unternehmen auf vielfältige Weise eingesetzt werden, um verschiedene Anforderungen und Herausforderungen zu adressieren. Hier sind einige der wesentlichen Aspekte:\n",
      "\n",
      "1. **Cognitive Services**: Azure bietet eine Reihe von Cognitive Services, die Unternehmen dabei unterstützen, komplexe Aufgaben zu automatisieren und wertvolle Einblicke aus ihren Daten zu gewinnen. Diese Dienste ermöglichen Funktionen wie Bilderkennung, Sprachverarbeitung und sentimentale Analyse, die in Anwendungen integriert werden können, um die Benutzererfahrung zu verbessern und Geschäftsentscheidungen zu optimieren.\n",
      "\n",
      "2. **Azure Search**: Azure Search ermöglicht es Unternehmen, KI-basierte Suchfunktionen zu implementieren. Dies ist besonders wertvoll für Organisationen, die große Datenmengen verwalten und ihren Nutzern eine effiziente und relevante Sucherfahrung bieten möchten. Mit Azure Search können Unternehmen Benutzeranfragen analysieren und personalisierte Ergebnisse zurückgeben, wodurch die Auffindbarkeit von Informationen in einem Unternehmen verbessert wird.\n",
      "\n",
      "3. **Skalierbarkeit und Flexibilität**: Azure bietet eine flexible Cloud-Infrastruktur, die sich leicht an die sich ändernden Anforderungen von Unternehmen anpassen lässt. Firmen können Ressourcen je nach Bedarf skalieren und bezahlbare Pay-as-you-go-Modelle nutzen, um Kosten zu optimieren.\n",
      "\n",
      "4. **Sicherheit und Compliance**: Microsoft Azure legt großen Wert auf Sicherheit und die Einhaltung von Vorschriften. Unternehmen können von den fortgeschrittenen Sicherheitsfunktionen profitieren, um ihre Daten zu schützen und die Anforderungen an den Datenschutz und\n"
     ]
    }
   ],
   "source": [
    "# ==============================================================\n",
    "# RAG Pipeline (Azure KI Suche) mit dem Modell Integration: Demo\n",
    "# ==============================================================\n",
    "import os \n",
    "import sys\n",
    "\n",
    "sys.path.append(os.path.abspath(\"..\"))\n",
    "\n",
    "from app.clients.cognitive_search import CoginitiveSearchClient\n",
    "from app.clients.openai_client import OpenAIClientWrapper\n",
    "\n",
    "\n",
    "# Initialisierung von Clients\n",
    "search_client = CoginitiveSearchClient()\n",
    "openai_client = OpenAIClientWrapper()\n",
    "\n",
    "# Suchanfrage in Azure KI Suche\n",
    "query = \"Azure\"\n",
    "docs = search_client.search_documents(query=query, top=3)\n",
    "\n",
    "# Antwort von GPT basierend auf Dokumenten wird erzeugt\n",
    "prompt = \"Erkläre mir, wie Azure in Unternehmen eingesetzt werden kann.\"\n",
    "response = openai_client.generate_answer(prompt, context_docs=docs)\n",
    "print(response)"
   ]
  },
  {
   "cell_type": "code",
   "execution_count": 1,
   "id": "b9631f3d",
   "metadata": {},
   "outputs": [
    {
     "name": "stderr",
     "output_type": "stream",
     "text": [
      "Die upload_file Funktion wurde ohne blob_name aufgerufen.\n"
     ]
    },
    {
     "name": "stdout",
     "output_type": "stream",
     "text": [
      "The Antwort ist: Ja, ich bin da! Wie kann ich Ihnen helfen?\n"
     ]
    }
   ],
   "source": [
    "# =================================================\n",
    "# Azure Open AI Chatservice Demo\n",
    "# =================================================\n",
    "import os \n",
    "import sys\n",
    "\n",
    "sys.path.append(os.path.abspath(\"..\"))\n",
    "\n",
    "from app.services.chat_service import ChatService\n",
    "\n",
    "\n",
    "chat_service = ChatService()\n",
    "user_id = \"testuser\"\n",
    "question = \"Bist du da?\"\n",
    "\n",
    "answer = chat_service.process_query(question=question, user_id=user_id)\n",
    "print(f\"The Antwort ist: {answer}\")"
   ]
  }
 ],
 "metadata": {
  "kernelspec": {
   "display_name": "venv",
   "language": "python",
   "name": "python3"
  },
  "language_info": {
   "codemirror_mode": {
    "name": "ipython",
    "version": 3
   },
   "file_extension": ".py",
   "mimetype": "text/x-python",
   "name": "python",
   "nbconvert_exporter": "python",
   "pygments_lexer": "ipython3",
   "version": "3.10.3"
  }
 },
 "nbformat": 4,
 "nbformat_minor": 5
}
