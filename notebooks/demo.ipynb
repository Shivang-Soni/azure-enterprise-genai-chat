{
 "cells": [
  {
   "cell_type": "code",
   "execution_count": 2,
   "id": "fb91a706",
   "metadata": {},
   "outputs": [
    {
     "name": "stdout",
     "output_type": "stream",
     "text": [
      "Upload erfolgreich:  True\n",
      "/nDownload erfolgreich:  True\n",
      "/nInhalt der heruntergeladenen Dateien: \n",
      "Testinhalt - Azure Blob Storage funktioniert!\n"
     ]
    }
   ],
   "source": [
    "# ==================================================\n",
    "# Azure Blob Storage Demo\n",
    "# ==================================================\n",
    "import sys, os\n",
    "sys.path.append(os.path.abspath(\"..\"))\n",
    "sys.path.append(os.path.abspath(\".\"))\n",
    "\n",
    "from app.clients.blob_storage import BlobStorageClient\n",
    "# Initialisierung\n",
    "client = BlobStorageClient()\n",
    "\n",
    "# Testdatei Erzeugung\n",
    "test_file_path = \"test_upload.txt\"\n",
    "with open(test_file_path, \"w\") as f:\n",
    "    f.write(\"Testinhalt - Azure Blob Storage funktioniert!\")\n",
    "\n",
    "# Datei hochladen\n",
    "upload_ok = client.upload_file(test_file_path, \"upload_test_notebook.txt\")\n",
    "print(\"Upload erfolgreich: \", upload_ok)\n",
    "\n",
    "# Dateien herunterladen\n",
    "download_path = \"download_test_notebook.txt\"\n",
    "download_ok = client.download_file(\"upload_test_notebook.txt\", download_path)\n",
    "print (\"/nDownload erfolgreich: \", download_ok)\n",
    "\n",
    "# Lokalen Inhalt Überprüfung\n",
    "with open(download_path, \"r\") as f:\n",
    "    content = f.read()\n",
    "print(\"/nInhalt der heruntergeladenen Dateien: \")\n",
    "print(content)"
   ]
  },
  {
   "cell_type": "code",
   "execution_count": 3,
   "id": "4c93170f",
   "metadata": {},
   "outputs": [
    {
     "name": "stdout",
     "output_type": "stream",
     "text": [
      "Alter Index (documents) wurde gelöscht.\n"
     ]
    }
   ],
   "source": [
    "# =========================================================\n",
    "# Löschung vom bestehenden Index\n",
    "# =========================================================\n",
    "from azure.core.credentials import AzureKeyCredential\n",
    "from azure.search.documents.indexes import SearchIndexClient\n",
    "from azure.search.documents.indexes.models import SearchIndex, SimpleField, SearchableField\n",
    "\n",
    "from app.config import AZURE_SEARCH_ENDPOINT, AZURE_SEARCH_KEY, AZURE_SEARCH_INDEX\n",
    "\n",
    "\n",
    "index_client = SearchIndexClient(\n",
    "    endpoint=AZURE_SEARCH_ENDPOINT,\n",
    "    credential=AzureKeyCredential(AZURE_SEARCH_KEY)\n",
    ")\n",
    "\n",
    "# Wenn alter Index vorhanden ist, es wird zuerst gelöscht\n",
    "try:\n",
    "    index_client.delete_index(AZURE_SEARCH_INDEX)\n",
    "    print(f\"Alter Index ({AZURE_SEARCH_INDEX}) wurde gelöscht.\")\n",
    "except Exception:\n",
    "    pass\n",
    "\n"
   ]
  },
  {
   "cell_type": "code",
   "execution_count": 4,
   "id": "01e1c836",
   "metadata": {},
   "outputs": [
    {
     "name": "stdout",
     "output_type": "stream",
     "text": [
      "Index 'documents' erfolgreich initialisiert.\n"
     ]
    }
   ],
   "source": [
    "# ===========================================================\n",
    "# Erstellung eines neuen Indexes\n",
    "# ============================================================\n",
    "fields = [\n",
    "    SimpleField(name=\"id\", type=\"Edm.String\", key=True),\n",
    "    SearchableField(name=\"title\", type=\"Edm.String\", retrievable=True),\n",
    "    SearchableField(name=\"content\", type=\"Edm.String\", retrievable=True)\n",
    "]\n",
    "\n",
    "index = SearchIndex(name=AZURE_SEARCH_INDEX, fields=fields)\n",
    "\n",
    "try:\n",
    "    index_client.create_index(index)\n",
    "    print(f\"Index '{AZURE_SEARCH_INDEX}' erfolgreich initialisiert.\")\n",
    "except Exception as e:\n",
    "    print(f\"Fehler ist bei der Erstellung des Indexes aufgetreten: {e}\")"
   ]
  },
  {
   "cell_type": "code",
   "execution_count": 5,
   "id": "f9f3809e",
   "metadata": {},
   "outputs": [
    {
     "name": "stdout",
     "output_type": "stream",
     "text": [
      "Dokumente erfolgreich hochgeladen.\n"
     ]
    }
   ],
   "source": [
    "# ========================================================\n",
    "# Das Hochladen von Beispieldokumenten\n",
    "# ========================================================\n",
    "from azure.search.documents import SearchClient\n",
    "from azure.core.credentials import AzureKeyCredential\n",
    "\n",
    "\n",
    "search_client = SearchClient(\n",
    "    endpoint=AZURE_SEARCH_ENDPOINT,\n",
    "    index_name=AZURE_SEARCH_INDEX,\n",
    "    credential=AzureKeyCredential(AZURE_SEARCH_KEY)\n",
    ")\n",
    "\n",
    "docs = [\n",
    "     {\"id\": \"1\", \"title\": \"Azure Cognitive Search Test\", \"content\": \"Dies ist ein Testdokument.\"},\n",
    "    {\"id\": \"2\", \"title\": \"Künstliche Intelligenz\", \"content\": \"Azure Search ermöglicht KI-basierte Suche.\"},\n",
    "    {\"id\": \"3\", \"title\": \"Cloud Computing\", \"content\": \"Speicherung und Verarbeitung in der Cloud.\"},\n",
    "    {\"id\": \"4\", \"title\": \"Python Programmierung\", \"content\": \"Python ist eine beliebte Programmiersprache.\"},\n",
    "    {\"id\": \"5\", \"title\": \"Azure Einsatz\", \"content\": \"Azure könnte tatsächlich bei Firmen auf verschiedenen Wegen genutzt werden. In erster Linie ist es hervorzuheben, dass Azure Cognitive Services einen großen Mehrwert bei zahlreichen heikligen Aufgaben verschaffen kann.\"},\n",
    "    {\"id\": \"6\", \"title\": \"FastAPI\", \"content\": \"Erstellung von APIs mit FastAPI.\"}\n",
    "]\n",
    "\n",
    "search_client.upload_documents(documents=docs)\n",
    "print(\"Dokumente erfolgreich hochgeladen.\")"
   ]
  },
  {
   "cell_type": "code",
   "execution_count": 6,
   "id": "9942227a",
   "metadata": {},
   "outputs": [
    {
     "name": "stdout",
     "output_type": "stream",
     "text": [
      "Cognitive Search Client wurde erfolgreich initialisert.\n",
      "Gefundene Dokumente: 3\n",
      "{'content': 'Azure könnte tatsächlich bei Firmen auf verschiedenen Wegen genutzt werden. In erster Linie ist es hervorzuheben, dass Azure Cognitive Services einen großen Mehrwert bei zahlreichen heikligen Aufgaben verschaffen kann.', 'id': '5', 'title': 'Azure Einsatz', '@search.score': 1.6750907, '@search.reranker_score': None, '@search.highlights': None, '@search.captions': None}\n",
      "{'content': 'Azure Search ermöglicht KI-basierte Suche.', 'id': '2', 'title': 'Künstliche Intelligenz', '@search.score': 1.133612, '@search.reranker_score': None, '@search.highlights': None, '@search.captions': None}\n",
      "{'content': 'Dies ist ein Testdokument.', 'id': '1', 'title': 'Azure Cognitive Search Test', '@search.score': 0.7648603, '@search.reranker_score': None, '@search.highlights': None, '@search.captions': None}\n"
     ]
    }
   ],
   "source": [
    "# ========================================================\n",
    "# Cognitive Search Demo\n",
    "# =========================================================\n",
    "from app.clients.cognitive_search import CoginitiveSearchClient\n",
    "from app.config import AZURE_SEARCH_ENDPOINT, AZURE_SEARCH_KEY, AZURE_SEARCH_INDEX\n",
    "\n",
    "# Initialisierung des Clients\n",
    "try:\n",
    "    search_client = CoginitiveSearchClient()\n",
    "    print(\"Cognitive Search Client wurde erfolgreich initialisert.\")\n",
    "except Exception as e:\n",
    "    print(\"Fehler bei der Initialisierung: {e}\")\n",
    "\n",
    "query = \"Azure\"\n",
    "\n",
    "try:\n",
    "    results = search_client.search_documents(query=query, top=5)\n",
    "    print(f\"Gefundene Dokumente: {len(results)}\")\n",
    "    for doc in results:\n",
    "        print(doc)\n",
    "except Exception as e:\n",
    "    print(f\"Fehler bei der Suche: {e}\")"
   ]
  },
  {
   "cell_type": "code",
   "execution_count": 2,
   "id": "61b388b4",
   "metadata": {},
   "outputs": [
    {
     "name": "stdout",
     "output_type": "stream",
     "text": [
      "Azure OpenAI ist ein Cloud-Dienst von Microsoft, der es Entwicklern und Unternehmen ermöglicht, KI-Modelle von OpenAI über die Azure-Plattform zu nutzen. Diese Integration bringt die leistungsstarken Sprach- und KI-Modelle von OpenAI, wie GPT-3 und andere, in die Azure-Cloud-Umgebung, sodass Benutzer diese Technologien für ihre eigenen Anwendungen und Dienste einsetzen können.\n",
      "\n",
      "Einige der Hauptmerkmale von Azure OpenAI sind:\n",
      "\n",
      "1. **Skalierbarkeit**: Durch die Nutzung von Azure können Unternehmen die Rechenressourcen nach Bedarf skalieren.\n",
      "\n",
      "2. **Sicherheit und Compliance**: Microsoft bietet verschiedene Sicherheits- und Compliance-Standards, die Unternehmen helfen, ihre Daten zu schützen und regulatorische Anforderungen zu erfüllen.\n",
      "\n",
      "3. **Einfache Integration**: Azure OpenAI lässt sich gut in andere Azure-Dienste, wie Azure Functions, Azure Logic Apps und Azure Cognitive Services, integrieren.\n",
      "\n",
      "4. **Zugänglichkeit**: Entwickler können über einfache API-Schnittstellen auf die KI-Funktionen zugreifen und diese in ihren Anwendungen verwenden.\n",
      "\n",
      "5. **Vielseitigkeit**: Nutzer können die Modelle für eine Vielzahl von Anwendungen einsetzen, darunter Textgenerierung, Chatbots, Inhaltsanalyse, Übersetzungen und vieles mehr.\n",
      "\n",
      "Insgesamt bietet Azure OpenAI eine leistungsstarke Plattform, um KI-Technologien in verschiedenen Geschäftsanwendungen und Lösungen zu nutzen.\n"
     ]
    }
   ],
   "source": [
    "# ========================================\n",
    "# OpenAI Modell Aufruf Demo\n",
    "# ========================================\n",
    "import sys\n",
    "import os \n",
    "\n",
    "sys.path.append(os.path.abspath(\"..\"))\n",
    "\n",
    "from app.clients.openai_client import OpenAIClientWrapper\n",
    "\n",
    "client = OpenAIClientWrapper()\n",
    "response = client.generate_answer(\"Was ist Azure OpenAI?\", max_tokens=1000)\n",
    "print(response)"
   ]
  },
  {
   "cell_type": "code",
   "execution_count": 4,
   "id": "224f55b7",
   "metadata": {},
   "outputs": [
    {
     "name": "stdout",
     "output_type": "stream",
     "text": [
      "Azure kann in Unternehmen auf verschiedene Weise eingesetzt werden, um deren Effizienz und Innovationsfähigkeit zu steigern. Hier sind einige wichtige Einsatzmöglichkeiten:\n",
      "\n",
      "1. **Cognitive Services**: Azure Cognitive Services bieten eine Reihe von KI-gestützten APIs, die Unternehmen helfen, komplexe Aufgaben zu bewältigen. Diese Dienste ermöglichen es, natürliche Sprache zu verarbeiten, Bilder und Videos zu analysieren und sogar Entscheidungen auf der Grundlage von Daten zu treffen. Beispielsweise können Unternehmen Chatbots erstellen, die Kundenanfragen automatisiert bearbeiten, oder Bildanalysesysteme zur Qualitätskontrolle in der Produktion nutzen.\n",
      "\n",
      "2. **KI-basierte Suche mit Azure Search**: Azure Search ist ein leistungsfähiges Tool, das es Unternehmen ermöglicht, eine KI-unterstützte Suchfunktion in ihren Anwendungen zu integrieren. Dies erleichtert das Finden relevanter Informationen innerhalb großer Datenmengen und verbessert die Benutzererfahrung sowohl für interne als auch für externe Nutzer. Unternehmen können dadurch effizienter arbeiten und schneller auf Informationen zugreifen.\n",
      "\n",
      "3. **Datenanalyse und -speicherung**: Mit Azure können Unternehmen große Mengen an Daten speichern und analysieren. Azure bietet verschiedene Datenbankdienste, Datenspeicherlösungen und Analyseinstrumente, die es Unternehmen ermöglichen, wertvolle Einblicke aus ihren Daten zu gewinnen und datengetriebene Entscheidungen zu treffen.\n",
      "\n",
      "4. **Skalierbare Infrastruktur**: Azure bietet eine flexible und skalierbare Cloud-Infrastruktur, die es Unternehmen ermöglicht, ihre IT\n"
     ]
    }
   ],
   "source": [
    "# ==============================================================\n",
    "# RAG Pipeline (Azure KI Suche) mit dem Modell Integration: Demo\n",
    "# ==============================================================\n",
    "from app.clients.cognitive_search import CoginitiveSearchClient\n",
    "from app.clients.openai_client import OpenAIClientWrapper\n",
    "\n",
    "# Initialisierung von Clients\n",
    "search_client = CoginitiveSearchClient()\n",
    "openai_client = OpenAIClientWrapper()\n",
    "\n",
    "# Suchanfrage in Azure KI Suche\n",
    "query = \"Azure\"\n",
    "docs = search_client.search_documents(query=query, top=3)\n",
    "\n",
    "# Antwort von GPT basierend auf Dokumenten wird erzeugt\n",
    "prompt = \"Erkläre mir, wie Azure in Unternehmen eingesetzt werden kann.\"\n",
    "response = openai_client.generate_answer(prompt, context_docs=docs)\n",
    "print(response)"
   ]
  }
 ],
 "metadata": {
  "kernelspec": {
   "display_name": "venv",
   "language": "python",
   "name": "python3"
  },
  "language_info": {
   "codemirror_mode": {
    "name": "ipython",
    "version": 3
   },
   "file_extension": ".py",
   "mimetype": "text/x-python",
   "name": "python",
   "nbconvert_exporter": "python",
   "pygments_lexer": "ipython3",
   "version": "3.10.3"
  }
 },
 "nbformat": 4,
 "nbformat_minor": 5
}
