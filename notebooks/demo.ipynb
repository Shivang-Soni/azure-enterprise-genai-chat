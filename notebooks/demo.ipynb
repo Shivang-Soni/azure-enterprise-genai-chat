{
 "cells": [
  {
   "cell_type": "code",
   "execution_count": 8,
   "id": "fb91a706",
   "metadata": {},
   "outputs": [
    {
     "name": "stdout",
     "output_type": "stream",
     "text": [
      "Upload erfolgreich:  True\n",
      "/nDownload erfolgreich:  True\n",
      "/nInhalt der heruntergeladenen Dateien: \n",
      "Testinhalt - Azure Blob Storage funktioniert!\n"
     ]
    }
   ],
   "source": [
    "# ==================================================\n",
    "# Azure Blob Storage Demo\n",
    "# ==================================================\n",
    "import sys, os\n",
    "sys.path.append(os.path.abspath(\"..\"))\n",
    "sys.path.append(os.path.abspath(\".\"))\n",
    "\n",
    "from app.clients.blob_storage import BlobStorageClient\n",
    "# Initialisierung\n",
    "client = BlobStorageClient()\n",
    "\n",
    "# Testdatei Erzeugung\n",
    "test_file_path = \"test_upload.txt\"\n",
    "with open(test_file_path, \"w\") as f:\n",
    "    f.write(\"Testinhalt - Azure Blob Storage funktioniert!\")\n",
    "\n",
    "# Datei hochladen\n",
    "upload_ok = client.upload_file(test_file_path, \"upload_test_notebook.txt\")\n",
    "print(\"Upload erfolgreich: \", upload_ok)\n",
    "\n",
    "# Dateien herunterladen\n",
    "download_path = \"download_test_notebook.txt\"\n",
    "download_ok = client.download_file(\"upload_test_notebook.txt\", download_path)\n",
    "print (\"/nDownload erfolgreich: \", download_ok)\n",
    "\n",
    "# Lokalen Inhalt Überprüfung\n",
    "with open(download_path, \"r\") as f:\n",
    "    content = f.read()\n",
    "print(\"/nInhalt der heruntergeladenen Dateien: \")\n",
    "print(content)"
   ]
  },
  {
   "cell_type": "code",
   "execution_count": 43,
   "id": "4c93170f",
   "metadata": {},
   "outputs": [
    {
     "name": "stdout",
     "output_type": "stream",
     "text": [
      "Alter Index (documents) wurde gelöscht.\n"
     ]
    }
   ],
   "source": [
    "# =========================================================\n",
    "# Löschung vom bestehenden Index\n",
    "# =========================================================\n",
    "from azure.core.credentials import AzureKeyCredential\n",
    "from azure.search.documents.indexes import SearchIndexClient\n",
    "from azure.search.documents.indexes.models import SearchIndex, SimpleField, SearchableField\n",
    "\n",
    "from app.config import AZURE_SEARCH_ENDPOINT, AZURE_SEARCH_KEY, AZURE_SEARCH_INDEX\n",
    "\n",
    "\n",
    "index_client = SearchIndexClient(\n",
    "    endpoint=AZURE_SEARCH_ENDPOINT,\n",
    "    credential=AzureKeyCredential(AZURE_SEARCH_KEY)\n",
    ")\n",
    "\n",
    "# Wenn alter Index vorhanden ist, es wird zuerst gelöscht\n",
    "try:\n",
    "    index_client.delete_index(AZURE_SEARCH_INDEX)\n",
    "    print(f\"Alter Index ({AZURE_SEARCH_INDEX}) wurde gelöscht.\")\n",
    "except Exception:\n",
    "    pass\n",
    "\n"
   ]
  },
  {
   "cell_type": "code",
   "execution_count": 44,
   "id": "01e1c836",
   "metadata": {},
   "outputs": [
    {
     "name": "stdout",
     "output_type": "stream",
     "text": [
      "Index 'documents' erfolgreich initialisiert.\n"
     ]
    }
   ],
   "source": [
    "# ===========================================================\n",
    "# Erstellung eines neuen Indexes\n",
    "# ============================================================\n",
    "fields = [\n",
    "    SimpleField(name=\"id\", type=\"Edm.String\", key=True),\n",
    "    SearchableField(name=\"title\", type=\"Edm.String\", retrievable=True),\n",
    "    SearchableField(name=\"content\", type=\"Edm.String\", retrievable=True)\n",
    "]\n",
    "\n",
    "index = SearchIndex(name=AZURE_SEARCH_INDEX, fields=fields)\n",
    "\n",
    "try:\n",
    "    index_client.create_index(index)\n",
    "    print(f\"Index '{AZURE_SEARCH_INDEX}' erfolgreich initialisiert.\")\n",
    "except Exception as e:\n",
    "    print(f\"Fehler ist bei der Erstellung des Indexes aufgetreten: {e}\")"
   ]
  },
  {
   "cell_type": "code",
   "execution_count": 47,
   "id": "f9f3809e",
   "metadata": {},
   "outputs": [
    {
     "name": "stdout",
     "output_type": "stream",
     "text": [
      "Dokumente erfolgreich hochgeladen.\n"
     ]
    }
   ],
   "source": [
    "# ========================================================\n",
    "# Das Hochladen von Beispieldokumenten\n",
    "# ========================================================\n",
    "from azure.search.documents import SearchClient\n",
    "from azure.core.credentials import AzureKeyCredential\n",
    "\n",
    "\n",
    "search_client = SearchClient(\n",
    "    endpoint=AZURE_SEARCH_ENDPOINT,\n",
    "    index_name=AZURE_SEARCH_INDEX,\n",
    "    credential=AzureKeyCredential(AZURE_SEARCH_KEY)\n",
    ")\n",
    "\n",
    "docs = [\n",
    "     {\"id\": \"1\", \"title\": \"Azure Cognitive Search Test\", \"content\": \"Dies ist ein Testdokument.\"},\n",
    "    {\"id\": \"2\", \"title\": \"Künstliche Intelligenz\", \"content\": \"Azure Search ermöglicht KI-basierte Suche.\"},\n",
    "    {\"id\": \"3\", \"title\": \"Cloud Computing\", \"content\": \"Speicherung und Verarbeitung in der Cloud.\"},\n",
    "    {\"id\": \"4\", \"title\": \"Python Programmierung\", \"content\": \"Python ist eine beliebte Programmiersprache.\"},\n",
    "    {\"id\": \"5\", \"title\": \"FastAPI\", \"content\": \"Erstellung von APIs mit FastAPI.\"}\n",
    "]\n",
    "\n",
    "search_client.upload_documents(documents=docs)\n",
    "print(\"Dokumente erfolgreich hochgeladen.\")"
   ]
  },
  {
   "cell_type": "code",
   "execution_count": 49,
   "id": "9942227a",
   "metadata": {},
   "outputs": [
    {
     "name": "stdout",
     "output_type": "stream",
     "text": [
      "Cognitive Search Client wurde erfolgreich initialisert.\n",
      "Gefundene Dokumente: 2\n",
      "{'content': 'Azure Search ermöglicht KI-basierte Suche.', 'title': 'Künstliche Intelligenz', 'id': '2', '@search.score': 1.2051069, '@search.reranker_score': None, '@search.highlights': None, '@search.captions': None}\n",
      "{'content': 'Dies ist ein Testdokument.', 'title': 'Azure Cognitive Search Test', 'id': '1', '@search.score': 1.0386478, '@search.reranker_score': None, '@search.highlights': None, '@search.captions': None}\n"
     ]
    }
   ],
   "source": [
    "# ========================================================\n",
    "# Cognitive Search Demo\n",
    "# =========================================================\n",
    "from app.clients.cognitive_search import CoginitiveSearchClient\n",
    "from app.config import AZURE_SEARCH_ENDPOINT, AZURE_SEARCH_KEY, AZURE_SEARCH_INDEX\n",
    "\n",
    "# Initialisierung des Clients\n",
    "try:\n",
    "    search_client = CoginitiveSearchClient()\n",
    "    print(\"Cognitive Search Client wurde erfolgreich initialisert.\")\n",
    "except Exception as e:\n",
    "    print(\"Fehler bei der Initialisierung: {e}\")\n",
    "\n",
    "query = \"Azure\"\n",
    "\n",
    "try:\n",
    "    results = search_client.search_documents(query=query, top=5)\n",
    "    print(f\"Gefundene Dokumente: {len(results)}\")\n",
    "    for doc in results:\n",
    "        print(doc)\n",
    "except Exception as e:\n",
    "    print(f\"Fehler bei der Suche: {e}\")"
   ]
  },
  {
   "cell_type": "code",
   "execution_count": 56,
   "id": "61b388b4",
   "metadata": {},
   "outputs": [
    {
     "ename": "ResourceNotFoundError",
     "evalue": "(404) Resource not found\nCode: 404\nMessage: Resource not found",
     "output_type": "error",
     "traceback": [
      "\u001b[0;31m---------------------------------------------------------------------------\u001b[0m",
      "\u001b[0;31mResourceNotFoundError\u001b[0m                     Traceback (most recent call last)",
      "Cell \u001b[0;32mIn[56], line 8\u001b[0m\n\u001b[1;32m      6\u001b[0m client \u001b[38;5;241m=\u001b[39m OpenAIClientWrapper()\n\u001b[1;32m      7\u001b[0m prompt \u001b[38;5;241m=\u001b[39m \u001b[38;5;124m\"\u001b[39m\u001b[38;5;124mSag hallo\u001b[39m\u001b[38;5;124m\"\u001b[39m\n\u001b[0;32m----> 8\u001b[0m response \u001b[38;5;241m=\u001b[39m \u001b[43mclient\u001b[49m\u001b[38;5;241;43m.\u001b[39;49m\u001b[43mgenerate_answer\u001b[49m\u001b[43m(\u001b[49m\u001b[43mprompt\u001b[49m\u001b[38;5;241;43m=\u001b[39;49m\u001b[43mprompt\u001b[49m\u001b[43m,\u001b[49m\u001b[43m \u001b[49m\u001b[43mmax_tokens\u001b[49m\u001b[38;5;241;43m=\u001b[39;49m\u001b[38;5;241;43m50\u001b[39;49m\u001b[43m)\u001b[49m\n\u001b[1;32m      9\u001b[0m \u001b[38;5;28mprint\u001b[39m(response)\n",
      "File \u001b[0;32m~/Documents/SDE Unterlagen/Projekte/AI and ML Projekte/azure-enterprise-genai-chat/app/clients/openai_client.py:29\u001b[0m, in \u001b[0;36mOpenAIClientWrapper.generate_answer\u001b[0;34m(self, prompt, model, max_tokens)\u001b[0m\n\u001b[1;32m     21\u001b[0m \u001b[38;5;250m\u001b[39m\u001b[38;5;124;03m\"\"\"\u001b[39;00m\n\u001b[1;32m     22\u001b[0m \u001b[38;5;124;03mZuständig für die Erzeugung einer Antwort mit Azure OpenAI (GPT).\u001b[39;00m\n\u001b[1;32m     23\u001b[0m \u001b[38;5;124;03m\"\"\"\u001b[39;00m\n\u001b[1;32m     24\u001b[0m messages \u001b[38;5;241m=\u001b[39m [\n\u001b[1;32m     25\u001b[0m     {\u001b[38;5;124m\"\u001b[39m\u001b[38;5;124mrole\u001b[39m\u001b[38;5;124m\"\u001b[39m: \u001b[38;5;124m\"\u001b[39m\u001b[38;5;124msystem\u001b[39m\u001b[38;5;124m\"\u001b[39m, \u001b[38;5;124m\"\u001b[39m\u001b[38;5;124mcontent\u001b[39m\u001b[38;5;124m\"\u001b[39m: \u001b[38;5;124m\"\u001b[39m\u001b[38;5;124mDu bist ein KI-Assistent.\u001b[39m\u001b[38;5;124m\"\u001b[39m},\n\u001b[1;32m     26\u001b[0m     {\u001b[38;5;124m\"\u001b[39m\u001b[38;5;124mrole\u001b[39m\u001b[38;5;124m\"\u001b[39m: \u001b[38;5;124m\"\u001b[39m\u001b[38;5;124muser\u001b[39m\u001b[38;5;124m\"\u001b[39m, \u001b[38;5;124m\"\u001b[39m\u001b[38;5;124mcontent\u001b[39m\u001b[38;5;124m\"\u001b[39m: prompt}\n\u001b[1;32m     27\u001b[0m ]\n\u001b[0;32m---> 29\u001b[0m response \u001b[38;5;241m=\u001b[39m \u001b[38;5;28;43mself\u001b[39;49m\u001b[38;5;241;43m.\u001b[39;49m\u001b[43mclient\u001b[49m\u001b[38;5;241;43m.\u001b[39;49m\u001b[43mcomplete\u001b[49m\u001b[43m(\u001b[49m\n\u001b[1;32m     30\u001b[0m \u001b[43m   \u001b[49m\u001b[43mmodel\u001b[49m\u001b[38;5;241;43m=\u001b[39;49m\u001b[38;5;28;43mself\u001b[39;49m\u001b[38;5;241;43m.\u001b[39;49m\u001b[43mdeployment\u001b[49m\u001b[43m,\u001b[49m\n\u001b[1;32m     31\u001b[0m \u001b[43m   \u001b[49m\u001b[43mmessages\u001b[49m\u001b[38;5;241;43m=\u001b[39;49m\u001b[43mmessages\u001b[49m\u001b[43m,\u001b[49m\n\u001b[1;32m     32\u001b[0m \u001b[43m   \u001b[49m\u001b[43mmax_tokens\u001b[49m\u001b[38;5;241;43m=\u001b[39;49m\u001b[43mmax_tokens\u001b[49m\n\u001b[1;32m     33\u001b[0m \u001b[43m\u001b[49m\u001b[43m)\u001b[49m\n\u001b[1;32m     34\u001b[0m \u001b[38;5;28;01mreturn\u001b[39;00m response\u001b[38;5;241m.\u001b[39mchoices[\u001b[38;5;241m0\u001b[39m]\u001b[38;5;241m.\u001b[39mmessage\u001b[38;5;241m.\u001b[39mcontent\n",
      "File \u001b[0;32m~/Documents/SDE Unterlagen/Projekte/AI and ML Projekte/azure-enterprise-genai-chat/venv/lib/python3.10/site-packages/azure/ai/inference/_patch.py:737\u001b[0m, in \u001b[0;36mChatCompletionsClient.complete\u001b[0;34m(self, body, messages, stream, frequency_penalty, presence_penalty, temperature, top_p, max_tokens, response_format, stop, tools, tool_choice, seed, model, model_extras, **kwargs)\u001b[0m\n\u001b[1;32m    735\u001b[0m     \u001b[38;5;28;01mif\u001b[39;00m _stream:\n\u001b[1;32m    736\u001b[0m         response\u001b[38;5;241m.\u001b[39mread()  \u001b[38;5;66;03m# Load the body in memory and close the socket\u001b[39;00m\n\u001b[0;32m--> 737\u001b[0m     \u001b[43mmap_error\u001b[49m\u001b[43m(\u001b[49m\u001b[43mstatus_code\u001b[49m\u001b[38;5;241;43m=\u001b[39;49m\u001b[43mresponse\u001b[49m\u001b[38;5;241;43m.\u001b[39;49m\u001b[43mstatus_code\u001b[49m\u001b[43m,\u001b[49m\u001b[43m \u001b[49m\u001b[43mresponse\u001b[49m\u001b[38;5;241;43m=\u001b[39;49m\u001b[43mresponse\u001b[49m\u001b[43m,\u001b[49m\u001b[43m \u001b[49m\u001b[43merror_map\u001b[49m\u001b[38;5;241;43m=\u001b[39;49m\u001b[43merror_map\u001b[49m\u001b[43m)\u001b[49m\n\u001b[1;32m    738\u001b[0m     \u001b[38;5;28;01mraise\u001b[39;00m HttpResponseError(response\u001b[38;5;241m=\u001b[39mresponse)\n\u001b[1;32m    740\u001b[0m \u001b[38;5;28;01mif\u001b[39;00m _stream:\n",
      "File \u001b[0;32m~/Documents/SDE Unterlagen/Projekte/AI and ML Projekte/azure-enterprise-genai-chat/venv/lib/python3.10/site-packages/azure/core/exceptions.py:163\u001b[0m, in \u001b[0;36mmap_error\u001b[0;34m(status_code, response, error_map)\u001b[0m\n\u001b[1;32m    161\u001b[0m     \u001b[38;5;28;01mreturn\u001b[39;00m\n\u001b[1;32m    162\u001b[0m error \u001b[38;5;241m=\u001b[39m error_type(response\u001b[38;5;241m=\u001b[39mresponse)\n\u001b[0;32m--> 163\u001b[0m \u001b[38;5;28;01mraise\u001b[39;00m error\n",
      "\u001b[0;31mResourceNotFoundError\u001b[0m: (404) Resource not found\nCode: 404\nMessage: Resource not found"
     ]
    }
   ],
   "source": [
    "# ===========================================================================\n",
    "# Azure OpenAI Demo\n",
    "# ===========================================================================\n",
    "from app.clients.openai_client import OpenAIClientWrapper\n",
    "\n",
    "client = OpenAIClientWrapper()\n",
    "prompt = \"Sag hallo\"\n",
    "response = client.generate_answer(prompt=prompt, max_tokens=50)\n",
    "print(response)"
   ]
  }
 ],
 "metadata": {
  "kernelspec": {
   "display_name": "venv",
   "language": "python",
   "name": "python3"
  },
  "language_info": {
   "codemirror_mode": {
    "name": "ipython",
    "version": 3
   },
   "file_extension": ".py",
   "mimetype": "text/x-python",
   "name": "python",
   "nbconvert_exporter": "python",
   "pygments_lexer": "ipython3",
   "version": "3.10.3"
  }
 },
 "nbformat": 4,
 "nbformat_minor": 5
}
